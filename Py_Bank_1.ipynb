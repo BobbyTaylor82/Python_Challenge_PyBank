{
 "cells": [
  {
   "cell_type": "markdown",
   "metadata": {},
   "source": [
    "<h1>PyBank</h1>"
   ]
  },
  {
   "cell_type": "markdown",
   "metadata": {},
   "source": [
    "![](revenue-per-lead.jpg)"
   ]
  },
  {
   "cell_type": "markdown",
   "metadata": {},
   "source": [
    "<p><strong>Objective:</strong> In this challenge, we were tasked with creating a Python script for analyzing the financial records of your company.</p>"
   ]
  },
  {
   "cell_type": "markdown",
   "metadata": {},
   "source": [
    "<p>This Python script analyzes the records to calculate each of the following:</p>\n",
    "<ul>\n",
    "\n",
    "<li>The total number of months included in the dataset</li>\n",
    "\n",
    "<li>The total amount of revenue gained over the entire period</li>\n",
    "\n",
    "<li>The average change in revenue between months over the entire period</li>\n",
    "\n",
    "<li>The greatest increase in revenue (date and amount) over the entire period</li>\n",
    "\n",
    "<li>The greatest decrease in revenue (date and amount) over the entire period</li>\n",
    "\n",
    "</ul><br>\n",
    "<p> This Python script will add the financial analysis to the terminal and export a text file with the results</p>"
   ]
  },
  {
   "cell_type": "code",
   "execution_count": 5,
   "metadata": {},
   "outputs": [
    {
     "name": "stdout",
     "output_type": "stream",
     "text": [
      "Financial Analysis\n",
      "----------------------------\n",
      "Total Months: 41\n",
      "Total Revenue: 18971412.0\n",
      "Average Revenue Change: -6758.98\n",
      "Greatest Increase in Revenue: Jan-16 ($1837235.0)\n",
      "Greatest Decrease in Revenue: Jul-14 ($-1779747.0)\n"
     ]
    }
   ],
   "source": [
    "#used library csv to perform this analysis\n",
    "\n",
    "import csv\n",
    "\n",
    "revenue= []\n",
    "date = []\n",
    "\n",
    "with open('raw_data/budget_data_1.csv') as data_file:\n",
    "    \n",
    "    csv_data = csv.reader(data_file)\n",
    "    \n",
    "    next(csv_data)\n",
    "    \n",
    "    for row in csv_data:\n",
    "        revenue.append(float(row[1]))\n",
    "        date.append(row[0])\n",
    "        \n",
    "        \n",
    "        \n",
    "#Calc for Revenue Change\n",
    "\n",
    "revenue_change = []\n",
    "\n",
    "for i in range(1,len(revenue)):\n",
    "    \n",
    "        revenue_change.append(revenue[i] - revenue[i-1])\n",
    "        \n",
    "avg_revenue_change = sum(revenue_change)/len(revenue_change)\n",
    "\n",
    "\n",
    "\n",
    "#Max Revenue   \n",
    "\n",
    "index_max_revenue_change = revenue_change.index(max(revenue_change))\n",
    "max_revenue_change_date = date[index_max_revenue_change]\n",
    "\n",
    " \n",
    "#Min Revenue \n",
    "\n",
    "index_min_revenue_change = revenue_change.index(min(revenue_change))\n",
    "min_revenue_change_date = date[index_min_revenue_change]\n",
    "\n",
    "\n",
    "#opens file with name of \"test.txt\"\n",
    "\n",
    "f = open(\"Financial_Analysis_1.txt\",\"w\") \n",
    "\n",
    "#write to text file\n",
    "\n",
    "f.write('Financial Analysis')\n",
    "f.write('\\n')\n",
    "f.write('----------------------------')\n",
    "f.write('\\n')\n",
    "f.write('Total Months: {}'.format(len(date)))\n",
    "f.write('\\n')\n",
    "f.write('Total Revenue: {}'.format(sum(revenue)))\n",
    "f.write('\\n')\n",
    "f.write('Average Revenue Change: {}'.format(round(avg_revenue_change,2)))\n",
    "f.write('\\n')\n",
    "f.write('Greatest Increase in Revenue: {} (${})'.format(max_revenue_change_date,max(revenue_change)))\n",
    "f.write('\\n')\n",
    "f.write('Greatest Decrease in Revenue: {} (${})'.format(min_revenue_change_date,min(revenue_change)))\n",
    "f.close()\n",
    "\n",
    "#print Financial Analysis to terminal\n",
    "\n",
    "print('Financial Analysis')\n",
    "print('----------------------------')\n",
    "print('Total Months: {}'.format(len(date)))\n",
    "print('Total Revenue: {}'.format(sum(revenue)))\n",
    "print('Average Revenue Change: {}'.format(round(avg_revenue_change,2)))\n",
    "print('Greatest Increase in Revenue: {} (${})'.format(max_revenue_change_date,max(revenue_change)))\n",
    "print('Greatest Decrease in Revenue: {} (${})'.format(min_revenue_change_date,min(revenue_change)))"
   ]
  },
  {
   "cell_type": "code",
   "execution_count": null,
   "metadata": {
    "collapsed": true
   },
   "outputs": [],
   "source": []
  }
 ],
 "metadata": {
  "kernelspec": {
   "display_name": "Python 3",
   "language": "python",
   "name": "python3"
  },
  "language_info": {
   "codemirror_mode": {
    "name": "ipython",
    "version": 3
   },
   "file_extension": ".py",
   "mimetype": "text/x-python",
   "name": "python",
   "nbconvert_exporter": "python",
   "pygments_lexer": "ipython3",
   "version": "3.6.1"
  }
 },
 "nbformat": 4,
 "nbformat_minor": 2
}
